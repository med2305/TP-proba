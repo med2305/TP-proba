{
 "cells": [
  {
   "cell_type": "markdown",
   "metadata": {},
   "source": [
    "# Simulation du jeux de LIDO simplifié"
   ]
  },
  {
   "cell_type": "markdown",
   "metadata": {},
   "source": [
    "## Principe\n",
    "On considére un jeux de Lido simple:\n",
    "on dispose d'un un seul pion.\n",
    "\n",
    "- Etape 0 :\n",
    "Le pion doit sort de sa prison lorsqu'on obtient un 6.\n",
    "\n",
    "- Etape 1 :\n",
    "Le pion doit atteindre exactement une position cible situé à N pas de distance de sa prison \n",
    "\n",
    "Soit $X_n$ la variable aléatoire qui represente le nombre de coup nécéssaire pour atteindre la positions cible.\n",
    "\n",
    "**Objectif 1** : Simuler le jeux \n",
    "\n",
    "**Objectif 2** : Calculer une estimation de l'éspérance mathématique de $X_n$ en utilisant `python`\n",
    "\n",
    "**Objéctif 3** : Observer la variation de $\\mathbb{E}(X_n)$ en fonction de $n$\n",
    "\n",
    "<img src=\"LIDO.png\">\n"
   ]
  },
  {
   "cell_type": "code",
   "execution_count": 3,
   "metadata": {},
   "outputs": [],
   "source": [
    "import numpy as np"
   ]
  },
  {
   "cell_type": "markdown",
   "metadata": {},
   "source": [
    "### Simulation du lancé de dé"
   ]
  },
  {
   "cell_type": "code",
   "execution_count": 4,
   "metadata": {},
   "outputs": [],
   "source": [
    "def Roll():\n",
    "    return int(np.random.choice(range(1,7),1))"
   ]
  },
  {
   "cell_type": "code",
   "execution_count": 5,
   "metadata": {},
   "outputs": [
    {
     "data": {
      "text/plain": [
       "4"
      ]
     },
     "execution_count": 5,
     "metadata": {},
     "output_type": "execute_result"
    }
   ],
   "source": [
    "Roll()"
   ]
  },
  {
   "cell_type": "markdown",
   "metadata": {},
   "source": [
    "### Compléter le code et commenter"
   ]
  },
  {
   "cell_type": "code",
   "execution_count": 6,
   "metadata": {
    "scrolled": false
   },
   "outputs": [
    {
     "name": "stdout",
     "output_type": "stream",
     "text": [
      "temp = 3 | NA = 1 | A = 0\n",
      "temp = 2 | NA = 2 | A = 0\n",
      "temp = 2 | NA = 3 | A = 0\n",
      "temp = 6 | NA = 4 | A = 0\n",
      "temp = 6 | NA = 4 | A = 1\n",
      "temp = 3 | NA = 5 | A = 4\n",
      "temp = 3 | NA = 6 | A = 7\n",
      "temp = 5 | NA = 7 | A = 7\n",
      "temp = 5 | NA = 8 | A = 7\n",
      "temp = 2 | NA = 9 | A = 9\n",
      "temp = 4 | NA = 10 | A = 9\n",
      "temp = 1 | NA = 11 | A = 10\n"
     ]
    }
   ],
   "source": [
    "A=0 #POSITION DU PION\n",
    "NA=0 #nb de coup\n",
    "S=10 #longeur du chemin n\n",
    "temp= Roll()\n",
    "NA += 1\n",
    "print ('temp = {} | NA = {} | A = {}' .format(temp,NA,A))\n",
    "while temp<6 :\n",
    "        temp=Roll()\n",
    "        NA=NA+1\n",
    "        print ('temp = {} | NA = {} | A = {}' .format(temp,NA,A))\n",
    "A=1 \n",
    "print ('temp = {} | NA = {} | A = {}' .format(temp,NA,A))\n",
    "while A<S :\n",
    "    temp=Roll()\n",
    "    if A+temp==S :\n",
    "        NA=NA+1\n",
    "        A=S\n",
    "        print ('temp = {} | NA = {} | A = {}' .format(temp,NA,A))\n",
    "        break\n",
    "    elif temp+A<S :\n",
    "        A=A+temp\n",
    "        NA=NA+1\n",
    "        print ('temp = {} | NA = {} | A = {}' .format(temp,NA,A))\n",
    "    else : \n",
    "        NA+=1\n",
    "        print ('temp = {} | NA = {} | A = {}' .format(temp,NA,A))\n",
    "        "
   ]
  },
  {
   "cell_type": "code",
   "execution_count": null,
   "metadata": {},
   "outputs": [],
   "source": [
    "\n",
    "# A : represente la position de pion  . \n",
    "# NA : represente le nombre de coups . \n",
    "# S : initialiser a 10 car la distance entre le prison et la destination est egale a 10 .\n",
    "# il faut avoir une valeur de dé = 6 pour avancer a la position 1 apres on lance le dés jusqua le pion atteint le cible"
   ]
  },
  {
   "cell_type": "markdown",
   "metadata": {},
   "source": [
    "### Simulation\n",
    "Ecrire une foction `sim` qui simule le jeux et qui prend comme variable le nombre de pas $n$ nécessazire pour atteindre la cible"
   ]
  },
  {
   "cell_type": "code",
   "execution_count": 7,
   "metadata": {},
   "outputs": [],
   "source": [
    "def sim(S):\n",
    "    A=0 #POSITION DU PION\n",
    "    NA=0 #nb de coup\n",
    "    temp= Roll()\n",
    "    NA += 1\n",
    "    while temp<6 :\n",
    "            temp=Roll()\n",
    "            NA=NA+1\n",
    "    A=1 \n",
    "    while A<S :\n",
    "        temp=Roll()\n",
    "        NA=NA+1\n",
    "        if A+temp==S :\n",
    "\n",
    "            A=S\n",
    "            break\n",
    "        elif temp+A<S :\n",
    "            A=A+temp\n",
    "        else : \n",
    "            continue\n",
    "    return NA\n"
   ]
  },
  {
   "cell_type": "code",
   "execution_count": 8,
   "metadata": {},
   "outputs": [
    {
     "data": {
      "text/plain": [
       "[20, 7, 9, 3, 8]"
      ]
     },
     "execution_count": 8,
     "metadata": {},
     "output_type": "execute_result"
    }
   ],
   "source": [
    "[sim(2) for i in range(5)]"
   ]
  },
  {
   "cell_type": "markdown",
   "metadata": {},
   "source": [
    "### Simulation de $10^5$  scénario "
   ]
  },
  {
   "cell_type": "code",
   "execution_count": 9,
   "metadata": {},
   "outputs": [],
   "source": [
    "Freq=np.fromiter((sim(20) for i in range(10**5)),dtype=int)"
   ]
  },
  {
   "cell_type": "code",
   "execution_count": 10,
   "metadata": {},
   "outputs": [],
   "source": [
    "ESP=Freq.sum()/10**5"
   ]
  },
  {
   "cell_type": "code",
   "execution_count": 11,
   "metadata": {},
   "outputs": [],
   "source": [
    "x=list(range(10,20))"
   ]
  },
  {
   "cell_type": "code",
   "execution_count": 12,
   "metadata": {},
   "outputs": [],
   "source": [
    "y=[np.fromiter((sim(u) for i in range(5*10**4)),dtype=int).sum()/50000 for u in x]"
   ]
  },
  {
   "cell_type": "code",
   "execution_count": 13,
   "metadata": {},
   "outputs": [
    {
     "name": "stderr",
     "output_type": "stream",
     "text": [
      "Matplotlib is building the font cache; this may take a moment.\n"
     ]
    }
   ],
   "source": [
    "import matplotlib.pyplot as plt"
   ]
  },
  {
   "cell_type": "code",
   "execution_count": 14,
   "metadata": {},
   "outputs": [
    {
     "data": {
      "text/plain": [
       "[<matplotlib.lines.Line2D at 0x2c80a9c48e0>]"
      ]
     },
     "execution_count": 14,
     "metadata": {},
     "output_type": "execute_result"
    },
    {
     "data": {
      "image/png": "[encoded data removed]",
      "text/plain": [
       "<Figure size 432x288 with 1 Axes>"
      ]
     },
     "metadata": {
      "needs_background": "light"
     },
     "output_type": "display_data"
    }
   ],
   "source": [
    "plt.plot(x,y,'*')"
   ]
  },
  {
   "cell_type": "code",
   "execution_count": 15,
   "metadata": {},
   "outputs": [],
   "source": [
    "from scipy import stats\n",
    "import numpy as np\n",
    "slope, intercept, r_value, p_value, std_err = stats.linregress(x,y)"
   ]
  },
  {
   "cell_type": "code",
   "execution_count": 16,
   "metadata": {},
   "outputs": [
    {
     "data": {
      "text/plain": [
       "0.28514763636363644"
      ]
     },
     "execution_count": 16,
     "metadata": {},
     "output_type": "execute_result"
    }
   ],
   "source": [
    "slope"
   ]
  },
  {
   "cell_type": "code",
   "execution_count": 17,
   "metadata": {},
   "outputs": [
    {
     "data": {
      "text/plain": [
       "10.485731272727271"
      ]
     },
     "execution_count": 17,
     "metadata": {},
     "output_type": "execute_result"
    }
   ],
   "source": [
    "intercept\n"
   ]
  },
  {
   "cell_type": "code",
   "execution_count": 18,
   "metadata": {},
   "outputs": [],
   "source": [
    "yy=[slope*u+intercept for u in x]"
   ]
  },
  {
   "cell_type": "code",
   "execution_count": 19,
   "metadata": {},
   "outputs": [
    {
     "data": {
      "text/plain": [
       "[<matplotlib.lines.Line2D at 0x2c80c258610>,\n",
       " <matplotlib.lines.Line2D at 0x2c80c258640>]"
      ]
     },
     "execution_count": 19,
     "metadata": {},
     "output_type": "execute_result"
    },
    {
     "data": {
      "image/png": "[encoded data removed]",
      "text/plain": [
       "<Figure size 432x288 with 1 Axes>"
      ]
     },
     "metadata": {
      "needs_background": "light"
     },
     "output_type": "display_data"
    }
   ],
   "source": [
    "plt.plot(x,y,'*',x,yy,'r-')"
   ]
  },
  {
   "cell_type": "code",
   "execution_count": 22,
   "metadata": {},
   "outputs": [],
   "source": [
    "#on a fait le graphe du jeu ludo dans le cas d''un jeu non truqué et on a constaté que le jeu est une fonction linéaire\n"
   ]
  }
 ],
 "metadata": {
  "kernelspec": {
   "display_name": "Python 3",
   "language": "python",
   "name": "python3"
  },
  "language_info": {
   "codemirror_mode": {
    "name": "ipython",
    "version": 3
   },
   "file_extension": ".py",
   "mimetype": "text/x-python",
   "name": "python",
   "nbconvert_exporter": "python",
   "pygments_lexer": "ipython3",
   "version": "3.8.8"
  }
 },
 "nbformat": 4,
 "nbformat_minor": 4
}
